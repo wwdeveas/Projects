{
 "cells": [
  {
   "cell_type": "code",
   "execution_count": 2,
   "id": "ef9fc1f1",
   "metadata": {},
   "outputs": [
    {
     "name": "stderr",
     "output_type": "stream",
     "text": [
      "C:\\Users\\devea\\anaconda3\\lib\\site-packages\\sklearn\\neighbors\\_classification.py:228: FutureWarning: Unlike other reduction functions (e.g. `skew`, `kurtosis`), the default behavior of `mode` typically preserves the axis it acts along. In SciPy 1.11.0, this behavior will change: the default value of `keepdims` will become False, the `axis` over which the statistic is taken will be eliminated, and the value None will no longer be accepted. Set `keepdims` to True or False to avoid this warning.\n",
      "  mode, _ = stats.mode(_y[neigh_ind, k], axis=1)\n"
     ]
    },
    {
     "name": "stdout",
     "output_type": "stream",
     "text": [
      "KNN:  0.93\n",
      "Decision Tree:  0.92\n",
      "Random Forest:  0.92\n",
      "Adaboost:  0.92\n",
      "Extra Trees Classifier:  0.92\n",
      "Voting Classifier:  0.92\n"
     ]
    },
    {
     "name": "stderr",
     "output_type": "stream",
     "text": [
      "C:\\Users\\devea\\anaconda3\\lib\\site-packages\\sklearn\\neighbors\\_classification.py:228: FutureWarning: Unlike other reduction functions (e.g. `skew`, `kurtosis`), the default behavior of `mode` typically preserves the axis it acts along. In SciPy 1.11.0, this behavior will change: the default value of `keepdims` will become False, the `axis` over which the statistic is taken will be eliminated, and the value None will no longer be accepted. Set `keepdims` to True or False to avoid this warning.\n",
      "  mode, _ = stats.mode(_y[neigh_ind, k], axis=1)\n"
     ]
    }
   ],
   "source": [
    "# Import required libraries\n",
    "import pandas as pd\n",
    "from sklearn.model_selection import train_test_split\n",
    "from sklearn.preprocessing import StandardScaler\n",
    "from sklearn.neighbors import KNeighborsClassifier\n",
    "from sklearn.tree import DecisionTreeClassifier\n",
    "from sklearn.ensemble import RandomForestClassifier, AdaBoostClassifier, ExtraTreesClassifier, VotingClassifier\n",
    "from sklearn.metrics import accuracy_score\n",
    "\n",
    "# Load the dataset into a pandas dataframe\n",
    "df = pd.read_csv('Social_Network_Ads.csv')\n",
    "\n",
    "# Preprocess the data\n",
    "X = df.iloc[:, [1, 2, 3]].values\n",
    "y = df.iloc[:, 4].values\n",
    "from sklearn.preprocessing import OneHotEncoder\n",
    "from sklearn.compose import ColumnTransformer\n",
    "ct = ColumnTransformer(transformers=[('encoder', OneHotEncoder(), [0])], remainder='passthrough')\n",
    "X = ct.fit_transform(X)\n",
    "\n",
    "# Split the data into training and testing sets\n",
    "X_train, X_test, y_train, y_test = train_test_split(X, y, test_size=0.25, random_state=0)\n",
    "\n",
    "# Scale the data\n",
    "sc = StandardScaler()\n",
    "X_train = sc.fit_transform(X_train)\n",
    "X_test = sc.transform(X_test)\n",
    "\n",
    "# KNN\n",
    "knn = KNeighborsClassifier(n_neighbors=5, metric='minkowski', p=2)\n",
    "knn.fit(X_train, y_train)\n",
    "y_pred_knn = knn.predict(X_test)\n",
    "accuracy_knn = accuracy_score(y_test, y_pred_knn)\n",
    "\n",
    "# Decision Tree\n",
    "dt = DecisionTreeClassifier(criterion='entropy', random_state=0)\n",
    "dt.fit(X_train, y_train)\n",
    "y_pred_dt = dt.predict(X_test)\n",
    "accuracy_dt = accuracy_score(y_test, y_pred_dt)\n",
    "\n",
    "# Random Forest\n",
    "rf = RandomForestClassifier(n_estimators=10, criterion='entropy', random_state=0)\n",
    "rf.fit(X_train, y_train)\n",
    "y_pred_rf = rf.predict(X_test)\n",
    "accuracy_rf = accuracy_score(y_test, y_pred_rf)\n",
    "\n",
    "# Adaboost\n",
    "ada = AdaBoostClassifier(n_estimators=50, learning_rate=1.0, random_state=0)\n",
    "ada.fit(X_train, y_train)\n",
    "y_pred_ada = ada.predict(X_test)\n",
    "accuracy_ada = accuracy_score(y_test, y_pred_ada)\n",
    "\n",
    "# Extra Trees Classifier\n",
    "ext = ExtraTreesClassifier(n_estimators=10, criterion='entropy', random_state=0)\n",
    "ext.fit(X_train, y_train)\n",
    "y_pred_ext = ext.predict(X_test)\n",
    "accuracy_ext = accuracy_score(y_test, y_pred_ext)\n",
    "\n",
    "# Voting Classifier\n",
    "vc = VotingClassifier(estimators=[('knn', knn), ('dt', dt), ('rf', rf), ('ada', ada), ('ext', ext)], voting='hard')\n",
    "vc.fit(X_train, y_train)\n",
    "y_pred_vc = vc.predict(X_test)\n",
    "accuracy_vc = accuracy_score(y_test, y_pred_vc)\n",
    "\n",
    "# Print the best accuracy for each algorithm\n",
    "print(\"KNN: \", accuracy_knn)\n",
    "print(\"Decision Tree: \", accuracy_dt)\n",
    "print(\"Random Forest: \", accuracy_rf)\n",
    "print(\"Adaboost: \", accuracy_ada)\n",
    "print(\"Extra Trees Classifier: \", accuracy_ext)\n",
    "print(\"Voting Classifier: \", accuracy_vc)\n"
   ]
  },
  {
   "cell_type": "code",
   "execution_count": null,
   "id": "38422130",
   "metadata": {},
   "outputs": [],
   "source": []
  }
 ],
 "metadata": {
  "kernelspec": {
   "display_name": "Python 3 (ipykernel)",
   "language": "python",
   "name": "python3"
  },
  "language_info": {
   "codemirror_mode": {
    "name": "ipython",
    "version": 3
   },
   "file_extension": ".py",
   "mimetype": "text/x-python",
   "name": "python",
   "nbconvert_exporter": "python",
   "pygments_lexer": "ipython3",
   "version": "3.9.13"
  }
 },
 "nbformat": 4,
 "nbformat_minor": 5
}
