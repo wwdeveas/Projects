{
 "cells": [
  {
   "cell_type": "markdown",
   "id": "ff96604e",
   "metadata": {},
   "source": [
    "# Simple Calculations with Python"
   ]
  },
  {
   "cell_type": "markdown",
   "id": "ce5876ef",
   "metadata": {},
   "source": [
    "## Basic Arithmetic Operations"
   ]
  },
  {
   "cell_type": "code",
   "execution_count": 1,
   "id": "0beef7fc",
   "metadata": {},
   "outputs": [
    {
     "name": "stdout",
     "output_type": "stream",
     "text": [
      "14\n",
      "144\n",
      "6.0\n"
     ]
    }
   ],
   "source": [
    "a = 12\n",
    "b = 2\n",
    "\n",
    "print(a + b)\n",
    "print(a**b)\n",
    "print(a/b)"
   ]
  },
  {
   "cell_type": "markdown",
   "id": "9e1ff0ca",
   "metadata": {},
   "source": [
    "## Python Libraries"
   ]
  },
  {
   "cell_type": "code",
   "execution_count": 2,
   "id": "fd62a417",
   "metadata": {},
   "outputs": [
    {
     "name": "stdout",
     "output_type": "stream",
     "text": [
      "3.141592653589793\n",
      "2.718281828459045\n",
      "0.7071067811865476\n",
      "0.7071067811865476\n",
      "0.9999999999999999\n"
     ]
    }
   ],
   "source": [
    "import numpy as np\n",
    "\n",
    "# mathematical constants\n",
    "print(np.pi)\n",
    "print(np.e)\n",
    "\n",
    "# trignometric functions\n",
    "angle = np.pi/4\n",
    "print(np.sin(angle))\n",
    "print(np.cos(angle))\n",
    "print(np.tan(angle))"
   ]
  },
  {
   "cell_type": "markdown",
   "id": "23019f21",
   "metadata": {},
   "source": [
    "## Selective statements - if"
   ]
  },
  {
   "cell_type": "code",
   "execution_count": 30,
   "id": "b5617a2a",
   "metadata": {},
   "outputs": [
    {
     "name": "stdout",
     "output_type": "stream",
     "text": [
      "This is the answer to the ultimate question\n",
      "This print statement is run no matter what because it is not indented!\n",
      "It takes me 11 minutes\n"
     ]
    }
   ],
   "source": [
    "#Sometimes you want to execute code only in certain circumstances. \n",
    "\n",
    "#Change answer and see what code is executed:\n",
    "answer = 42\n",
    "\n",
    "if answer == 42:\n",
    "    print('This is the answer to the ultimate question')\n",
    "elif answer < 42:\n",
    "    print('This is less than the answer to the ultimate question')\n",
    "else:\n",
    "    print('This is more than the answer to the ultimate question')\n",
    "print('This print statement is run no matter what because it is not indented!')\n",
    "\n",
    "#An if statement is an example of a structure that creates a new block. The block includes all of the code that is \n",
    "#indented. The indentation (tab character) is imperative. Don't forget it!\n",
    "\n",
    "#We can check multiple things at once using boolean operations\n",
    "snowy = True\n",
    "day = \"Monday\"\n",
    "\n",
    "#How long does it take me to get to class in the morning?\n",
    "\n",
    "if (snowy == False) and (day != \"Monday\"):\n",
    "    #and is boolean and. True only if both are true. False otherwise\n",
    "    time = 7\n",
    "elif (snowy == True) and (day == \"Monday\"):\n",
    "    time = 11\n",
    "elif (rainy == True) or (day == \"Monday\"):\n",
    "    time = 9\n",
    "    \n",
    "print(\"It takes me %d minutes\" %(time))"
   ]
  },
  {
   "cell_type": "markdown",
   "id": "bf2d0dce",
   "metadata": {},
   "source": [
    "# Loops in Python"
   ]
  },
  {
   "cell_type": "code",
   "execution_count": 29,
   "id": "384f1442",
   "metadata": {},
   "outputs": [
    {
     "name": "stdout",
     "output_type": "stream",
     "text": [
      "Printing using while loop:  1 1 2 3 5 8 \n",
      "Let's try that again with for 1 1 2 3 5 8 \n",
      "One more time with for: 1 1 2 3 5 8 "
     ]
    }
   ],
   "source": [
    "#Repeat code until a conditional statement ends the loop\n",
    "\n",
    "#Let's try printing a list\n",
    "fib = [1, 1, 2, 3, 5, 8]\n",
    "\n",
    "#While loops are the basic type\n",
    "print ('Printing using while loop: ', end=' ')\n",
    "i = 0\n",
    "while(i < len(fib)):\n",
    "    print(fib[i], end=' ')\n",
    "    i = i + 1\n",
    "    \n",
    "#In matlab, to do the same thing you would have the conditional as: counter < (length(fib) + 1)\n",
    "#This is because matlab starts indexing at 1, and python starts at 0.\n",
    "    \n",
    "#The above type of loop is so common that the 'for' loop is the way to write it faster.\n",
    "\n",
    "print(\"\\nLet's try that again with for\", end=' ')\n",
    "#This is most similar to for loops in matlab\n",
    "for i in range(0, len(fib)) :\n",
    "    print(fib[i], end=' ')\n",
    "\n",
    "print(\"\\nOne more time with for:\", end=' ')\n",
    "#Or you can do so even neater\n",
    "for e in fib:\n",
    "    print(e, end=' ')"
   ]
  },
  {
   "cell_type": "markdown",
   "id": "19f36d77",
   "metadata": {},
   "source": [
    "## Working with Lists"
   ]
  },
  {
   "cell_type": "code",
   "execution_count": 3,
   "id": "017598e3",
   "metadata": {},
   "outputs": [
    {
     "data": {
      "text/plain": [
       "[1, 2, 3, 4]"
      ]
     },
     "execution_count": 3,
     "metadata": {},
     "output_type": "execute_result"
    }
   ],
   "source": [
    "#What if we want to store many integers? We need a list!\n",
    "xList = [1, 2, 3, 4]\n",
    "xList"
   ]
  },
  {
   "cell_type": "code",
   "execution_count": 4,
   "id": "df50184d",
   "metadata": {},
   "outputs": [
    {
     "data": {
      "text/plain": [
       "[1, 2, 3, 4, 5, 6, 7, 8]"
      ]
     },
     "execution_count": 4,
     "metadata": {},
     "output_type": "execute_result"
    }
   ],
   "source": [
    "# Concatenation\n",
    "x = [1, 2, 3, 4];\n",
    "y = [5, 6, 7, 8];\n",
    "\n",
    "x + y"
   ]
  },
  {
   "cell_type": "code",
   "execution_count": 5,
   "id": "0fb25057",
   "metadata": {},
   "outputs": [
    {
     "data": {
      "text/plain": [
       "10"
      ]
     },
     "execution_count": 5,
     "metadata": {},
     "output_type": "execute_result"
    }
   ],
   "source": [
    "np.sum(x)  # sum all elements in a list"
   ]
  },
  {
   "cell_type": "code",
   "execution_count": 6,
   "id": "559d6087",
   "metadata": {},
   "outputs": [
    {
     "name": "stdout",
     "output_type": "stream",
     "text": [
      "[ 6  8 10 12]\n",
      "70\n"
     ]
    }
   ],
   "source": [
    "print(np.add(x,y))  # Add corresponding elements in the lists\n",
    "print(np.dot(x,y))  # dot product"
   ]
  },
  {
   "cell_type": "code",
   "execution_count": 7,
   "id": "d44823ff",
   "metadata": {},
   "outputs": [
    {
     "name": "stdout",
     "output_type": "stream",
     "text": [
      "sin(1) =  0.84147\n",
      "sin(2) =  0.90930\n",
      "sin(3) =  0.14112\n",
      "sin(4) = -0.75680\n"
     ]
    }
   ],
   "source": [
    "for x in xList:\n",
    "    print(\"sin({0}) = {1:8.5f}\".format(x,np.sin(x)))"
   ]
  },
  {
   "cell_type": "code",
   "execution_count": 17,
   "id": "84211c7a",
   "metadata": {},
   "outputs": [
    {
     "name": "stdout",
     "output_type": "stream",
     "text": [
      "['Green', 'Blue', 'Red']\n"
     ]
    }
   ],
   "source": [
    "#This is a way to define a list in place. We can also make an empty list and add to it.\n",
    "colors = []\n",
    "\n",
    "colors.append(\"Green\")  ## append to the list\n",
    "colors.append(\"Blue\")\n",
    "colors.append(\"Red\")\n",
    "\n",
    "print(colors)"
   ]
  },
  {
   "cell_type": "markdown",
   "id": "3c9918e2",
   "metadata": {},
   "source": [
    "## Working with Dictionaries"
   ]
  },
  {
   "cell_type": "code",
   "execution_count": 8,
   "id": "c28a5900",
   "metadata": {},
   "outputs": [
    {
     "data": {
      "text/plain": [
       "{'CH4': 16.04, 'H2O': 18.02, 'O2': 32.0, 'CO2': 44.01}"
      ]
     },
     "execution_count": 8,
     "metadata": {},
     "output_type": "execute_result"
    }
   ],
   "source": [
    "# An array with index that do not have to be numeric.\n",
    "mw = {'CH4': 16.04, 'H2O': 18.02, 'O2':32.00, 'CO2': 44.01}\n",
    "mw"
   ]
  },
  {
   "cell_type": "code",
   "execution_count": 9,
   "id": "8f467fe5",
   "metadata": {},
   "outputs": [
    {
     "data": {
      "text/plain": [
       "{'CH4': 16.04, 'H2O': 18.02, 'O2': 32.0, 'CO2': 44.01, 'C8H18': 114.23}"
      ]
     },
     "execution_count": 9,
     "metadata": {},
     "output_type": "execute_result"
    }
   ],
   "source": [
    "mw['C8H18'] = 114.23\n",
    "mw"
   ]
  },
  {
   "cell_type": "code",
   "execution_count": 10,
   "id": "af3dbe4c",
   "metadata": {},
   "outputs": [
    {
     "data": {
      "text/plain": [
       "16.04"
      ]
     },
     "execution_count": 10,
     "metadata": {},
     "output_type": "execute_result"
    }
   ],
   "source": [
    "mw['CH4']"
   ]
  },
  {
   "cell_type": "code",
   "execution_count": 11,
   "id": "0dfab283",
   "metadata": {},
   "outputs": [
    {
     "name": "stdout",
     "output_type": "stream",
     "text": [
      "The molar mass of CH4 is 16.04  \n",
      "The molar mass of H2O is 18.02  \n",
      "The molar mass of O2 is 32.00  \n",
      "The molar mass of CO2 is 44.01  \n",
      "The molar mass of C8H18 is 114.23 \n"
     ]
    }
   ],
   "source": [
    "for species in mw.keys():\n",
    "    print(\"The molar mass of {:<s} is {:<7.2f}\".format(species, mw[species]))"
   ]
  },
  {
   "cell_type": "code",
   "execution_count": 12,
   "id": "8d234bd7",
   "metadata": {},
   "outputs": [
    {
     "name": "stdout",
     "output_type": "stream",
     "text": [
      " C8H18      114.23\n",
      " CH4         16.04\n",
      " CO2         44.01\n",
      " H2O         18.02\n",
      " O2          32.00\n"
     ]
    }
   ],
   "source": [
    "for species in sorted(mw):\n",
    "    print(\" {:<8s}  {:>7.2f}\".format(species, mw[species]))"
   ]
  },
  {
   "cell_type": "markdown",
   "id": "673c31ee",
   "metadata": {},
   "source": [
    "## Plotting with Matplotlib"
   ]
  },
  {
   "cell_type": "code",
   "execution_count": 18,
   "id": "2b20b256",
   "metadata": {},
   "outputs": [
    {
     "data": {
      "text/plain": [
       "[<matplotlib.lines.Line2D at 0x263184cebe0>]"
      ]
     },
     "execution_count": 18,
     "metadata": {},
     "output_type": "execute_result"
    },
    {
     "data": {
      "image/png": "[encoded data removed]",
      "text/plain": [
       "<Figure size 432x288 with 1 Axes>"
      ]
     },
     "metadata": {
      "needs_background": "light"
     },
     "output_type": "display_data"
    }
   ],
   "source": [
    "#We can plot easily in Python like in matlab, just import the relevant package!\n",
    "%matplotlib inline\n",
    "import matplotlib.pyplot as plt\n",
    "\n",
    "x_vals = [-2, -1, 0, 1, 2]\n",
    "y_vals = [-4, -2, 0, 2, 4]\n",
    "plt.plot(x_vals, y_vals)"
   ]
  },
  {
   "cell_type": "code",
   "execution_count": 13,
   "id": "cd4ad5af",
   "metadata": {},
   "outputs": [
    {
     "data": {
      "image/png": "[encoded data removed]",
      "text/plain": [
       "<Figure size 432x288 with 1 Axes>"
      ]
     },
     "metadata": {
      "needs_background": "light"
     },
     "output_type": "display_data"
    }
   ],
   "source": [
    "%matplotlib inline\n",
    "\n",
    "import matplotlib.pyplot as plt\n",
    "import numpy as np\n",
    "\n",
    "x = np.linspace(0,10)\n",
    "y = np.sin(x)\n",
    "z = np.cos(x)\n",
    "\n",
    "plt.plot(x,y,'b',x,z,'r')\n",
    "plt.xlabel('Radians');\n",
    "plt.ylabel('Value');\n",
    "plt.title('Plotting Demonstration')\n",
    "plt.legend(['Sin','Cos'])\n",
    "plt.grid()"
   ]
  },
  {
   "cell_type": "code",
   "execution_count": 14,
   "id": "cef649d2",
   "metadata": {},
   "outputs": [
    {
     "data": {
      "text/plain": [
       "(-1.09972447591003,\n",
       " 1.0979832896606587,\n",
       " -1.0992804688576738,\n",
       " 1.0999657366122702)"
      ]
     },
     "execution_count": 14,
     "metadata": {},
     "output_type": "execute_result"
    },
    {
     "data": {
      "image/png": "[encoded data removed]",
      "text/plain": [
       "<Figure size 432x288 with 1 Axes>"
      ]
     },
     "metadata": {
      "needs_background": "light"
     },
     "output_type": "display_data"
    }
   ],
   "source": [
    "plt.plot(y,z)\n",
    "plt.axis('equal')"
   ]
  },
  {
   "cell_type": "code",
   "execution_count": 15,
   "id": "0bc7cc1d",
   "metadata": {},
   "outputs": [
    {
     "data": {
      "text/plain": [
       "Text(0.5, 1.0, 'Cos(x)')"
      ]
     },
     "execution_count": 15,
     "metadata": {},
     "output_type": "execute_result"
    },
    {
     "data": {
      "image/png": "[encoded data removed]",
      "text/plain": [
       "<Figure size 432x288 with 2 Axes>"
      ]
     },
     "metadata": {
      "needs_background": "light"
     },
     "output_type": "display_data"
    }
   ],
   "source": [
    "plt.subplot(2,1,1)\n",
    "plt.plot(x,y)\n",
    "plt.title('Sin(x)')\n",
    "\n",
    "plt.subplot(2,1,2)\n",
    "plt.plot(x,z)\n",
    "plt.title('Cos(x)')"
   ]
  },
  {
   "cell_type": "markdown",
   "id": "4703b394",
   "metadata": {},
   "source": [
    "## Solve Equations using Sympy Library"
   ]
  },
  {
   "cell_type": "code",
   "execution_count": 16,
   "id": "16dce33b",
   "metadata": {},
   "outputs": [
    {
     "name": "stdout",
     "output_type": "stream",
     "text": [
      "85521.9882637211/V\n"
     ]
    },
    {
     "data": {
      "image/png": "[encoded data removed]",
      "text/plain": [
       "<Figure size 432x288 with 1 Axes>"
      ]
     },
     "metadata": {
      "needs_background": "light"
     },
     "output_type": "display_data"
    },
    {
     "data": {
      "text/plain": [
       "<sympy.plotting.plot.Plot at 0x26316093460>"
      ]
     },
     "execution_count": 16,
     "metadata": {},
     "output_type": "execute_result"
    }
   ],
   "source": [
    "import sympy as sym\n",
    "\n",
    "sym.var('P V n R T');\n",
    "\n",
    "# Gas constant\n",
    "R = 8.314        # J/K/gmol\n",
    "R = R * 1000     # J/K/kgmol\n",
    "\n",
    "# Moles of air\n",
    "mAir = 1         # kg\n",
    "mwAir = 28.97    # kg/kg-mol\n",
    "n = mAir/mwAir   # kg-mol\n",
    "\n",
    "# Temperature\n",
    "T = 298\n",
    "\n",
    "# Equation\n",
    "eqn = sym.Eq(P*V,n*R*T)\n",
    "\n",
    "# Solve for P \n",
    "f = sym.solve(eqn,P)\n",
    "print(f[0])\n",
    "\n",
    "# Use the sympy plot function to plot\n",
    "sym.plot(f[0],(V,1,10),xlabel='Volume m**3',ylabel='Pressure Pa')"
   ]
  },
  {
   "cell_type": "markdown",
   "id": "aedfa59a",
   "metadata": {},
   "source": [
    "## Functions:"
   ]
  },
  {
   "cell_type": "code",
   "execution_count": 35,
   "id": "0451b702",
   "metadata": {},
   "outputs": [
    {
     "name": "stdout",
     "output_type": "stream",
     "text": [
      "step(-1)= -1\n",
      "step(1)= 1\n",
      "step(0)= None\n",
      "step_v2(1)= 1\n",
      "f( 2 , 6 ) = (4, 30)\n"
     ]
    }
   ],
   "source": [
    "#We can separate off code into functions, that can take input and can give output. They serve as black boxes from the \n",
    "#perspective of the rest of our code\n",
    "\n",
    "#use the def keyword, and indent because this creates a new block\n",
    "def print_me( string ):\n",
    "    print(string)\n",
    "   \n",
    "   #End with the \"return\" keyword\n",
    "    return\n",
    "\n",
    "#Your functions can return data if you so choose\n",
    "def step(x):\n",
    "    if (x < 0):\n",
    "        return -1\n",
    "    elif (x > 0):\n",
    "        return 1\n",
    "\n",
    "#call functions by repeating their name, and putting your variable in the parenthesis. \n",
    "#Your variable need not be named the same thing, but it should be the right type!\n",
    "\n",
    "print('step(-1)=', step(-1))\n",
    "print('step(1)=', step(1))\n",
    "\n",
    "#what happens for x = 0?\n",
    "print('step(0)=', step(0))\n",
    "\n",
    "#Python automatically adds in a \"return none\" statement if you are missing one. \n",
    "#If you see \"none\" make sure your program can work with that!\n",
    "\n",
    "\n",
    "#Fix the return none issue\n",
    "def step_v2(x):\n",
    "    if (x < 0):\n",
    "        return -1\n",
    "    elif (x >= 0):\n",
    "        return 1\n",
    "    \n",
    "print('step_v2(1)=', step_v2(0))\n",
    "\n",
    "# Return more than one value in functions\n",
    "def f (x, y):\n",
    "    return x*2, y*5\n",
    "\n",
    "print ('f(', 2, ',', 6, ') =', f(2, 6))"
   ]
  },
  {
   "cell_type": "code",
   "execution_count": null,
   "id": "edf151ed",
   "metadata": {},
   "outputs": [],
   "source": []
  }
 ],
 "metadata": {
  "kernelspec": {
   "display_name": "Python 3 (ipykernel)",
   "language": "python",
   "name": "python3"
  },
  "language_info": {
   "codemirror_mode": {
    "name": "ipython",
    "version": 3
   },
   "file_extension": ".py",
   "mimetype": "text/x-python",
   "name": "python",
   "nbconvert_exporter": "python",
   "pygments_lexer": "ipython3",
   "version": "3.9.13"
  }
 },
 "nbformat": 4,
 "nbformat_minor": 5
}
