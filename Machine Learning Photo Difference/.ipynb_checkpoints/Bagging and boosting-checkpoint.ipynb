{
 "cells": [
  {
   "cell_type": "code",
   "execution_count": null,
   "id": "5b12277d",
   "metadata": {},
   "outputs": [],
   "source": [
    "import numpy as np\n",
    "import pandas as pd\n",
    "import map\n"
   ]
  },
  {
   "cell_type": "code",
   "execution_count": null,
   "id": "2f5be862",
   "metadata": {},
   "outputs": [],
   "source": [
    "set data to csv"
   ]
  },
  {
   "cell_type": "code",
   "execution_count": null,
   "id": "92c34e00",
   "metadata": {},
   "outputs": [],
   "source": [
    "data.info()"
   ]
  },
  {
   "cell_type": "code",
   "execution_count": null,
   "id": "ac02a910",
   "metadata": {},
   "outputs": [],
   "source": [
    "data[['Glucose', 'BloodPressure', 'SkinThickness', 'Insulin', 'BMI', 'DiabetesPedigreeFunction', 'Age']].replcae(0, np,Nan, inplace=True)"
   ]
  },
  {
   "cell_type": "code",
   "execution_count": null,
   "id": "9c70e71a",
   "metadata": {},
   "outputs": [],
   "source": [
    "def fin_median(var):\n",
    "    temp = data[data[var].notnull()]\n",
    "    temp = daya[[var, 'Outcome']].groupby('Outcome')[[var]].median().reset_index()\n",
    "    return temp"
   ]
  }
 ],
 "metadata": {
  "kernelspec": {
   "display_name": "Python 3 (ipykernel)",
   "language": "python",
   "name": "python3"
  },
  "language_info": {
   "codemirror_mode": {
    "name": "ipython",
    "version": 3
   },
   "file_extension": ".py",
   "mimetype": "text/x-python",
   "name": "python",
   "nbconvert_exporter": "python",
   "pygments_lexer": "ipython3",
   "version": "3.9.13"
  }
 },
 "nbformat": 4,
 "nbformat_minor": 5
}
