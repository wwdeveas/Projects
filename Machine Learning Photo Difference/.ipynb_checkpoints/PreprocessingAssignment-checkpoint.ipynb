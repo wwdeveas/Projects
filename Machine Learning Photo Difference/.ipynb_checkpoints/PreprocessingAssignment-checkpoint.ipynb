{
 "cells": [
  {
   "cell_type": "markdown",
   "id": "05687dd1",
   "metadata": {},
   "source": [
    "# Lab: Data Prrprocessing\n",
    "\n",
    "We are going preprocess the data set: heart_disease.csv.<br/>\n",
    "Attribute Information:\n",
    "* age: age in years\n",
    "* sex: sex (1 = male; 0 = female)\n",
    "* cp: chest pain type\n",
    "        -- Value 1: typical angina\n",
    "        -- Value 2: atypical angina\n",
    "        -- Value 3: non-anginal pain\n",
    "        -- Value 4: asymptomatic\n",
    "* trestbps: resting blood pressure (in mm Hg on admission to the hospital)\n",
    "* chol: serum cholestoral in mg/dl\n",
    "* fbs: (fasting blood sugar > 120 mg/dl)  (1 = true; 0 = false)\n",
    "* restecg: resting electrocardiographic results\n",
    "        -- Value 0: normal\n",
    "        -- Value 1: having ST-T wave abnormality (T wave inversions and/or ST \n",
    "                    elevation or depression of > 0.05 mV)\n",
    "        -- Value 2: showing probable or definite left ventricular hypertrophy\n",
    "                    by Estes' criteria\n",
    "* thalach: maximum heart rate achieved\n",
    "* exang: exercise induced angina (1 = yes; 0 = no)\n",
    "* oldpeak = ST depression induced by exercise relative to rest\n",
    "* slope: the slope of the peak exercise ST segment\n",
    "        -- Value 1: upsloping\n",
    "        -- Value 2: flat\n",
    "        -- Value 3: downsloping\n",
    "* ca: number of major vessels (0-3) colored by flourosopy\n",
    "* thal: 3 = normal; 6 = fixed defect; 7 = reversable defect\n",
    "* num: diagnosis of heart disease (angiographic disease status)\n",
    "        -- Value 0: < 50% diameter narrowing\n",
    "        -- Value 1: > 50% diameter narrowing\n",
    "        (in any major vessel: attributes 59 through 68 are vessels)\n"
   ]
  },
  {
   "cell_type": "code",
   "execution_count": 2,
   "id": "610517cf",
   "metadata": {},
   "outputs": [],
   "source": [
    "# import libraries\n",
    "import pandas as pd\n",
    "import matplotlib.pyplot as plt\n",
    "import numpy as np"
   ]
  },
  {
   "cell_type": "code",
   "execution_count": 4,
   "id": "d62d2bd7",
   "metadata": {},
   "outputs": [],
   "source": [
    "# Read data set heart_disease.csv\n",
    "# column name: 'age', 'sex', 'cp', 'trestbps', 'chol', 'fbs', 'restecg', 'thalach', 'exang', 'oldpeak', 'slope', 'ca', 'thal', 'num'])\n",
    "data = pd.read_csv('heart_disease.csv')\n"
   ]
  },
  {
   "cell_type": "markdown",
   "id": "09ad6525",
   "metadata": {},
   "source": [
    "## Display the column names"
   ]
  },
  {
   "cell_type": "code",
   "execution_count": 5,
   "id": "6e4c38ba",
   "metadata": {},
   "outputs": [
    {
     "data": {
      "text/plain": [
       "Index(['age', 'sex', 'cp', 'trestbps', 'chol', 'fbs', 'restecg', 'thalach',\n",
       "       'exang', 'oldpeak', 'slope', 'ca', 'thal', 'num'],\n",
       "      dtype='object')"
      ]
     },
     "execution_count": 5,
     "metadata": {},
     "output_type": "execute_result"
    }
   ],
   "source": [
    "# Type your code here:\n",
    "data.columns"
   ]
  },
  {
   "cell_type": "markdown",
   "id": "b1210d71",
   "metadata": {},
   "source": [
    "## Display the three columns: age, fbs, and slope\n"
   ]
  },
  {
   "cell_type": "code",
   "execution_count": null,
   "id": "4ad5dbdc",
   "metadata": {},
   "outputs": [],
   "source": [
    "# Type your code here:\n"
   ]
  },
  {
   "cell_type": "markdown",
   "id": "d1070b84",
   "metadata": {},
   "source": [
    "## Missing Values"
   ]
  },
  {
   "cell_type": "code",
   "execution_count": null,
   "id": "7155de79",
   "metadata": {},
   "outputs": [],
   "source": [
    "# Check if there is any missing values:"
   ]
  },
  {
   "cell_type": "code",
   "execution_count": null,
   "id": "06585c85",
   "metadata": {},
   "outputs": [],
   "source": [
    "# Remove the row that has missing value"
   ]
  },
  {
   "cell_type": "markdown",
   "id": "56a04529",
   "metadata": {},
   "source": [
    "## Outliers"
   ]
  },
  {
   "cell_type": "markdown",
   "id": "85d9cb6a",
   "metadata": {},
   "source": [
    "### Histogram:"
   ]
  },
  {
   "cell_type": "code",
   "execution_count": null,
   "id": "64c28364",
   "metadata": {},
   "outputs": [],
   "source": [
    "# Type your code here:\n"
   ]
  },
  {
   "cell_type": "markdown",
   "id": "d5a81bb0",
   "metadata": {},
   "source": [
    "### Boxplot"
   ]
  },
  {
   "cell_type": "code",
   "execution_count": null,
   "id": "5c333aa0",
   "metadata": {},
   "outputs": [],
   "source": [
    "# Use the box plot method to detect if there is any outlies in the thalach feature\n",
    "\n",
    "\n",
    "\n",
    "# Type in here the outliers condition: _______________\n"
   ]
  },
  {
   "cell_type": "markdown",
   "id": "d11b2156",
   "metadata": {},
   "source": [
    "### Standard deviation"
   ]
  },
  {
   "cell_type": "code",
   "execution_count": null,
   "id": "1d0f41a6",
   "metadata": {},
   "outputs": [],
   "source": [
    "# Use the standard deviation method to detect if there is any outlies in the thalach feature\n",
    "\n",
    "\n",
    "# Type in here the outliers condition: _______________\n"
   ]
  },
  {
   "cell_type": "markdown",
   "id": "cdcb17a2",
   "metadata": {},
   "source": [
    "## Scale features:"
   ]
  },
  {
   "cell_type": "code",
   "execution_count": null,
   "id": "4f724278",
   "metadata": {},
   "outputs": [],
   "source": [
    "# scale the features age, trestbps, thalach, chol using the min-max scaling method.\n"
   ]
  },
  {
   "cell_type": "markdown",
   "id": "452a33cd",
   "metadata": {},
   "source": [
    "# Encode Categorical features:"
   ]
  },
  {
   "cell_type": "code",
   "execution_count": null,
   "id": "178a617d",
   "metadata": {},
   "outputs": [],
   "source": [
    "# Encode the sex feature as numbers using nominal categorical data\n"
   ]
  },
  {
   "cell_type": "code",
   "execution_count": null,
   "id": "b787203f",
   "metadata": {},
   "outputs": [],
   "source": [
    "# Encode the cp feature as numbers using ordinal categorical data"
   ]
  },
  {
   "cell_type": "code",
   "execution_count": null,
   "id": "57b34375",
   "metadata": {},
   "outputs": [],
   "source": [
    "# Encode the fbs feature as numbers using ordinal categorical data"
   ]
  },
  {
   "cell_type": "code",
   "execution_count": null,
   "id": "b260ceaf",
   "metadata": {},
   "outputs": [],
   "source": [
    "# Encode the exang feature as numbers using ordinal categorical data"
   ]
  },
  {
   "cell_type": "code",
   "execution_count": null,
   "id": "0a2f2bf0",
   "metadata": {},
   "outputs": [],
   "source": [
    "# Encode the slope feature as numbers using nominal categorical data"
   ]
  }
 ],
 "metadata": {
  "kernelspec": {
   "display_name": "Python 3 (ipykernel)",
   "language": "python",
   "name": "python3"
  },
  "language_info": {
   "codemirror_mode": {
    "name": "ipython",
    "version": 3
   },
   "file_extension": ".py",
   "mimetype": "text/x-python",
   "name": "python",
   "nbconvert_exporter": "python",
   "pygments_lexer": "ipython3",
   "version": "3.9.13"
  }
 },
 "nbformat": 4,
 "nbformat_minor": 5
}
