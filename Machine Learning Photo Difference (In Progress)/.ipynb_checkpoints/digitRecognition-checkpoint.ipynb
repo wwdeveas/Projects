{
 "cells": [
  {
   "cell_type": "code",
   "execution_count": 1,
   "metadata": {},
   "outputs": [],
   "source": [
    "# Import libraries:\n",
    "import pandas as pd\n"
   ]
  },
  {
   "cell_type": "code",
   "execution_count": 2,
   "metadata": {},
   "outputs": [],
   "source": [
    "# Read the data file: 'digits_recognition.csv'\n",
    "# use pd.read_csv and include header = None as a second parameter.\n",
    "data = pd.read_csv('digits_recognition.csv', header = None)"
   ]
  },
  {
   "cell_type": "code",
   "execution_count": 3,
   "metadata": {},
   "outputs": [],
   "source": [
    "# Extract the feature vector and the output label\n",
    "# ----- Important ----- Note the output label is at column 0\n",
    "# ----- Important ----- the feature vector starts from column 1 to the last column\n",
    "# Extract the feature vector\n",
    "x = data.iloc[:, 1:]\n",
    "\n",
    "# Extract the output label\n",
    "y = data.iloc[:, 0]\n",
    "\n",
    "print(x.head())\n",
    "print(y.head())"
   ]
  },
  {
   "cell_type": "code",
   "execution_count": 3,
   "metadata": {},
   "outputs": [],
   "source": [
    "# Type in the code that draw a sample of the digits from the feature vector\n",
    "# Note: copy and paste the code in the text document associated with this project\n",
    "..."
   ]
  },
  {
   "cell_type": "code",
   "execution_count": null,
   "metadata": {},
   "outputs": [],
   "source": [
    "# Scale the feature vector by the range, that is 255\n",
    "..."
   ]
  },
  {
   "cell_type": "code",
   "execution_count": null,
   "metadata": {},
   "outputs": [],
   "source": [
    "# Split the feature vector and output label into X_train, X_test, y_train, y_test\n",
    "...\n"
   ]
  },
  {
   "cell_type": "code",
   "execution_count": null,
   "metadata": {},
   "outputs": [],
   "source": [
    "# Use the K nearest neighbor algorithm with different values of K\n",
    "# find the best K that is not under-fit or over-fit\n",
    "# Make sure to print the training accuracy and the test accuracy using the score function\n"
   ]
  }
 ],
 "metadata": {
  "kernelspec": {
   "display_name": "Python 3 (ipykernel)",
   "language": "python",
   "name": "python3"
  },
  "language_info": {
   "codemirror_mode": {
    "name": "ipython",
    "version": 3
   },
   "file_extension": ".py",
   "mimetype": "text/x-python",
   "name": "python",
   "nbconvert_exporter": "python",
   "pygments_lexer": "ipython3",
   "version": "3.9.13"
  }
 },
 "nbformat": 4,
 "nbformat_minor": 4
}
