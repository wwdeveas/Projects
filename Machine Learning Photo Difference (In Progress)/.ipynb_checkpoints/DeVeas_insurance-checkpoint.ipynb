{
 "cells": [
  {
   "cell_type": "code",
   "execution_count": 1,
   "id": "75a8be33",
   "metadata": {},
   "outputs": [
    {
     "name": "stdout",
     "output_type": "stream",
     "text": [
      "Polynomial Regression (Degree 2): Mean Squared Error: 20712805.987918362\n",
      "Polynomial Regression (Degree 3): Mean Squared Error: 23498217.99893398\n",
      "Polynomial Regression (Degree 4): Mean Squared Error: 38158498.332725324\n",
      "Polynomial Regression (Degree 5): Mean Squared Error: 194410024.56154895\n",
      "Decision Tree Regression: Mean Squared Error: 42446748.91927925\n",
      "Random Forest Regression: Mean Squared Error: 20997250.35426495\n",
      "AdaBoost Regression: Mean Squared Error: 27764201.0378857\n"
     ]
    }
   ],
   "source": [
    "import pandas as pd\n",
    "import numpy as np\n",
    "from sklearn.linear_model import LinearRegression\n",
    "from sklearn.model_selection import train_test_split\n",
    "from sklearn.metrics import mean_squared_error\n",
    "from sklearn.tree import DecisionTreeRegressor\n",
    "from sklearn.ensemble import RandomForestRegressor, AdaBoostRegressor\n",
    "from sklearn.preprocessing import MinMaxScaler\n",
    "from sklearn.preprocessing import PolynomialFeatures\n",
    "\n",
    "# Load the data\n",
    "data = pd.read_csv('insurance.csv')\n",
    "\n",
    "# Check for missing data and remove rows with missing data\n",
    "data = data.dropna()\n",
    "\n",
    "# Remove outliers (optional)\n",
    "# You can use any outlier detection technique to identify and remove outliers from the data\n",
    "\n",
    "# Split the data into features (X) and target (y)\n",
    "X = data.iloc[:, :-1]\n",
    "y = data.iloc[:, -1]\n",
    "\n",
    "# Convert categorical variables to numerical using one-hot encoding\n",
    "X = pd.get_dummies(X, drop_first=True)\n",
    "\n",
    "# Scale the data using Min-Max scalar\n",
    "scaler = MinMaxScaler()\n",
    "X_scaled = scaler.fit_transform(X)\n",
    "\n",
    "# Split the data into train and test sets\n",
    "X_train, X_test, y_train, y_test = train_test_split(X_scaled, y, test_size=0.2, random_state=42)\n",
    "\n",
    "# Linear Regression\n",
    "regressor_lr = LinearRegression()\n",
    "regressor_lr.fit(X_train, y_train)\n",
    "y_pred_lr = regressor_lr.predict(X_test)\n",
    "\n",
    "# Polynomial Regression\n",
    "degrees = [2, 3, 4, 5]\n",
    "for degree in degrees:\n",
    "    poly = PolynomialFeatures(degree=degree)\n",
    "    X_poly = poly.fit_transform(X_scaled)\n",
    "    X_train_poly, X_test_poly, y_train_poly, y_test_poly = train_test_split(X_poly, y, test_size=0.2, random_state=42)\n",
    "    regressor_poly = LinearRegression()\n",
    "    regressor_poly.fit(X_train_poly, y_train_poly)\n",
    "    y_pred_poly = regressor_poly.predict(X_test_poly)\n",
    "    mse_poly = mean_squared_error(y_test_poly, y_pred_poly)\n",
    "    print(f\"Polynomial Regression (Degree {degree}): Mean Squared Error: {mse_poly}\")\n",
    "\n",
    "# Decision Tree Regression\n",
    "regressor_dt = DecisionTreeRegressor(random_state=42)\n",
    "regressor_dt.fit(X_train, y_train)\n",
    "y_pred_dt = regressor_dt.predict(X_test)\n",
    "mse_dt = mean_squared_error(y_test, y_pred_dt)\n",
    "print(f\"Decision Tree Regression: Mean Squared Error: {mse_dt}\")\n",
    "\n",
    "# Random Forest Regression\n",
    "regressor_rf = RandomForestRegressor(random_state=42)\n",
    "regressor_rf.fit(X_train, y_train)\n",
    "y_pred_rf = regressor_rf.predict(X_test)\n",
    "mse_rf = mean_squared_error(y_test, y_pred_rf)\n",
    "print(f\"Random Forest Regression: Mean Squared Error: {mse_rf}\")\n",
    "\n",
    "# AdaBoost Regression\n",
    "regressor_ab = AdaBoostRegressor(random_state=42)\n",
    "regressor_ab.fit(X_train, y_train)\n",
    "y_pred_ab = regressor_ab.predict(X_test)\n",
    "mse_ab = mean_squared_error(y_test, y_pred_ab)\n",
    "print(f\"AdaBoost Regression: Mean Squared Error: {mse_ab}\")"
   ]
  },
  {
   "cell_type": "code",
   "execution_count": null,
   "id": "06e2ac56",
   "metadata": {},
   "outputs": [],
   "source": []
  }
 ],
 "metadata": {
  "kernelspec": {
   "display_name": "Python 3 (ipykernel)",
   "language": "python",
   "name": "python3"
  },
  "language_info": {
   "codemirror_mode": {
    "name": "ipython",
    "version": 3
   },
   "file_extension": ".py",
   "mimetype": "text/x-python",
   "name": "python",
   "nbconvert_exporter": "python",
   "pygments_lexer": "ipython3",
   "version": "3.9.13"
  }
 },
 "nbformat": 4,
 "nbformat_minor": 5
}
